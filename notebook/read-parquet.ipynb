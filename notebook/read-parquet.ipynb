{
 "cells": [
  {
   "cell_type": "code",
   "execution_count": 1,
   "id": "6ace0aeb",
   "metadata": {},
   "outputs": [
    {
     "name": "stdout",
     "output_type": "stream",
     "text": [
      "Requirement already satisfied: pandas in c:\\users\\hp\\anaconda3\\lib\\site-packages (2.3.1)\n",
      "Requirement already satisfied: pyarrow in c:\\users\\hp\\anaconda3\\lib\\site-packages (16.1.0)\n",
      "Requirement already satisfied: numpy>=1.26.0 in c:\\users\\hp\\anaconda3\\lib\\site-packages (from pandas) (1.26.4)\n",
      "Requirement already satisfied: python-dateutil>=2.8.2 in c:\\users\\hp\\anaconda3\\lib\\site-packages (from pandas) (2.9.0.post0)\n",
      "Requirement already satisfied: pytz>=2020.1 in c:\\users\\hp\\anaconda3\\lib\\site-packages (from pandas) (2025.2)\n",
      "Requirement already satisfied: tzdata>=2022.7 in c:\\users\\hp\\anaconda3\\lib\\site-packages (from pandas) (2025.2)\n",
      "Requirement already satisfied: six>=1.5 in c:\\users\\hp\\anaconda3\\lib\\site-packages (from python-dateutil>=2.8.2->pandas) (1.16.0)\n",
      "Note: you may need to restart the kernel to use updated packages.\n"
     ]
    }
   ],
   "source": [
    "pip install pandas pyarrow\n"
   ]
  },
  {
   "cell_type": "code",
   "execution_count": 9,
   "id": "01bbb8e2",
   "metadata": {},
   "outputs": [
    {
     "name": "stdout",
     "output_type": "stream",
     "text": [
      "customerID                                object\n",
      "gender                                   float64\n",
      "SeniorCitizen                            float64\n",
      "Partner                                  float64\n",
      "Dependents                               float64\n",
      "tenure                                   float64\n",
      "PhoneService                             float64\n",
      "PaperlessBilling                         float64\n",
      "MonthlyCharges                           float64\n",
      "TotalCharges                             float64\n",
      "Churn                                      int64\n",
      "total_interactions                       float64\n",
      "days_since_last_interaction              float64\n",
      "billing_inquiry                          float64\n",
      "complaint                                float64\n",
      "service_upgrade                          float64\n",
      "support_call                             float64\n",
      "website_visit                            float64\n",
      "MultipleLines_No phone service           float64\n",
      "MultipleLines_Yes                        float64\n",
      "InternetService_Fiber optic              float64\n",
      "InternetService_No                       float64\n",
      "OnlineSecurity_No internet service       float64\n",
      "OnlineSecurity_Yes                       float64\n",
      "OnlineBackup_No internet service         float64\n",
      "OnlineBackup_Yes                         float64\n",
      "DeviceProtection_No internet service     float64\n",
      "DeviceProtection_Yes                     float64\n",
      "TechSupport_No internet service          float64\n",
      "TechSupport_Yes                          float64\n",
      "StreamingTV_No internet service          float64\n",
      "StreamingTV_Yes                          float64\n",
      "StreamingMovies_No internet service      float64\n",
      "StreamingMovies_Yes                      float64\n",
      "Contract_One year                        float64\n",
      "Contract_Two year                        float64\n",
      "PaymentMethod_Credit card (automatic)    float64\n",
      "PaymentMethod_Electronic check           float64\n",
      "PaymentMethod_Mailed check               float64\n",
      "TenureInYears                            float64\n",
      "NumAdditionalServices                    float64\n",
      "MonthlyTenureRatio                       float64\n",
      "dtype: object\n"
     ]
    }
   ],
   "source": [
    "import pandas as pd\n",
    "file_path = r\"D:\\Prasanna\\Learning\\M.TECH BITS\\vscode\\MS-Portfolio\\DMML\\Customer_churn_analysis\\data\\transformed\\transformed_features.parquet\"\n",
    "df = pd.read_parquet(file_path, engine=\"pyarrow\")\n",
    "print(df.dtypes)\n"
   ]
  },
  {
   "cell_type": "code",
   "execution_count": 8,
   "id": "14393fb8",
   "metadata": {},
   "outputs": [
    {
     "name": "stdout",
     "output_type": "stream",
     "text": [
      "File exists: True\n",
      "Directory contents: ['churn_pipeline.db', 'transformed_features.parquet']\n"
     ]
    }
   ],
   "source": [
    "import os\n",
    "\n",
    "file_path = r\"D:\\Prasanna\\Learning\\M.TECH BITS\\vscode\\MS-Portfolio\\DMML\\Customer_churn_analysis\\data\\transformed\\transformed_features.parquet\"\n",
    "print(\"File exists:\", os.path.exists(file_path))\n",
    "print(\"Directory contents:\", os.listdir(os.path.dirname(file_path)))"
   ]
  },
  {
   "cell_type": "code",
   "execution_count": 10,
   "id": "832f68fd",
   "metadata": {},
   "outputs": [
    {
     "name": "stdout",
     "output_type": "stream",
     "text": [
      "                             customerID    gender  SeniorCitizen   Partner  \\\n",
      "0  bdd640fb-0667-4ad1-9c80-317fa3b1799d  1.010051       2.317202 -0.962695   \n",
      "1  23b8c1e9-3924-46de-beb1-3b9046685257  1.010051      -0.431555 -0.962695   \n",
      "2  bd9c66b3-ad3c-4d6d-9a3d-1fa7bc8960a9  1.010051      -0.431555  1.038750   \n",
      "3  972a8469-1641-4f82-8b9d-2434e465e150 -0.990050      -0.431555 -0.962695   \n",
      "4  17fc695a-07a0-4a6e-8822-e8f36c031199 -0.990050      -0.431555  1.038750   \n",
      "\n",
      "   Dependents    tenure  PhoneService  PaperlessBilling  MonthlyCharges  \\\n",
      "0   -0.632898 -0.352922      0.340693          0.804641       -1.595654   \n",
      "1   -0.632898  1.624234      0.340693          0.804641        0.365842   \n",
      "2   -0.632898 -1.390930      0.340693          0.804641        1.182872   \n",
      "3   -0.632898 -0.550638      0.340693         -1.242791        0.508943   \n",
      "4   -0.632898  1.525376      0.340693          0.804641       -0.269280   \n",
      "\n",
      "   TotalCharges  ...  StreamingMovies_No internet service  \\\n",
      "0      1.688767  ...                            -0.538816   \n",
      "1      1.188763  ...                            -0.538816   \n",
      "2      0.883289  ...                            -0.538816   \n",
      "3      1.479616  ...                            -0.538816   \n",
      "4     -1.684663  ...                            -0.538816   \n",
      "\n",
      "   StreamingMovies_Yes  Contract_One year  Contract_Two year  \\\n",
      "0             1.229863           -0.52644          -0.439679   \n",
      "1             1.229863           -0.52644          -0.439679   \n",
      "2             1.229863           -0.52644          -0.439679   \n",
      "3            -0.813099           -0.52644          -0.439679   \n",
      "4            -0.813099           -0.52644           2.274388   \n",
      "\n",
      "   PaymentMethod_Credit card (automatic)  PaymentMethod_Electronic check  \\\n",
      "0                              -0.512471                       -0.700224   \n",
      "1                              -0.512471                       -0.700224   \n",
      "2                               1.951331                       -0.700224   \n",
      "3                               1.951331                       -0.700224   \n",
      "4                              -0.512471                       -0.700224   \n",
      "\n",
      "   PaymentMethod_Mailed check  TenureInYears  NumAdditionalServices  \\\n",
      "0                    1.794271      -0.352922              -0.046561   \n",
      "1                   -0.557329       1.624234              -0.046561   \n",
      "2                   -0.557329      -1.390930              -0.908795   \n",
      "3                   -0.557329      -0.550638               0.815674   \n",
      "4                    1.794271       1.525376              -0.908795   \n",
      "\n",
      "   MonthlyTenureRatio  \n",
      "0           -0.529011  \n",
      "1           -0.484797  \n",
      "2            3.060839  \n",
      "3           -0.086192  \n",
      "4           -0.521194  \n",
      "\n",
      "[5 rows x 42 columns]\n"
     ]
    }
   ],
   "source": [
    "print(df.head())\n"
   ]
  }
 ],
 "metadata": {
  "kernelspec": {
   "display_name": "base",
   "language": "python",
   "name": "python3"
  },
  "language_info": {
   "codemirror_mode": {
    "name": "ipython",
    "version": 3
   },
   "file_extension": ".py",
   "mimetype": "text/x-python",
   "name": "python",
   "nbconvert_exporter": "python",
   "pygments_lexer": "ipython3",
   "version": "3.12.7"
  }
 },
 "nbformat": 4,
 "nbformat_minor": 5
}
