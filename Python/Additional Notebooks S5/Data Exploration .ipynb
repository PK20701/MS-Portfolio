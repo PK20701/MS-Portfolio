{
 "cells": [
  {
   "cell_type": "markdown",
   "metadata": {},
   "source": [
    "# Data Exploration"
   ]
  },
  {
   "cell_type": "markdown",
   "metadata": {},
   "source": [
    "Lets use a real life example to explore the useful data analysis features of pandas. For this purpose, we are going to use the Bike Shairing dataset that is made available on the UCI website. \n",
    "Using the various measures those are captured as part of this dataset, lets explore how pandas powerful capabilities can be utilized for the data wrangling and exploration. "
   ]
  },
  {
   "cell_type": "markdown",
   "metadata": {},
   "source": [
    "Dataset and more information can be found at following URL - <br>\n",
    "https://archive.ics.uci.edu/ml/datasets/Bike+Sharing+Dataset <br>\n",
    "Please take some moments to go through the description of the dataset and its features which will be helpful for doing further data analysis."
   ]
  },
  {
   "cell_type": "markdown",
   "metadata": {},
   "source": [
    "The Basic Requirements\n",
    "- Reading Data From CSV\n",
    "- Formatting, cleaning and filtering Data Frames\n",
    "- Group-by and Concat / Merge\n",
    "- Writing Data to CSV"
   ]
  },
  {
   "cell_type": "code",
   "execution_count": 1,
   "metadata": {},
   "outputs": [],
   "source": [
    "import pandas as pd\n",
    "import numpy as np"
   ]
  },
  {
   "cell_type": "markdown",
   "metadata": {},
   "source": [
    "# Step1 - Reading Data From CSV"
   ]
  },
  {
   "cell_type": "markdown",
   "metadata": {},
   "source": [
    "As the data is stored in csv format, use read_csv function of pandas to read the data in pandas structure named DataFrame."
   ]
  },
  {
   "cell_type": "code",
   "execution_count": 2,
   "metadata": {},
   "outputs": [],
   "source": [
    "bikes = pd.read_csv(\"bike_shairing_hourly.csv\")"
   ]
  },
  {
   "cell_type": "markdown",
   "metadata": {},
   "source": [
    "<b> Data Viewing<b>"
   ]
  },
  {
   "cell_type": "markdown",
   "metadata": {},
   "source": [
    "Lets explore the first and last few rows of dataframe. "
   ]
  },
  {
   "cell_type": "code",
   "execution_count": 3,
   "metadata": {},
   "outputs": [
    {
     "data": {
      "text/html": [
       "<div>\n",
       "<style scoped>\n",
       "    .dataframe tbody tr th:only-of-type {\n",
       "        vertical-align: middle;\n",
       "    }\n",
       "\n",
       "    .dataframe tbody tr th {\n",
       "        vertical-align: top;\n",
       "    }\n",
       "\n",
       "    .dataframe thead th {\n",
       "        text-align: right;\n",
       "    }\n",
       "</style>\n",
       "<table border=\"1\" class=\"dataframe\">\n",
       "  <thead>\n",
       "    <tr style=\"text-align: right;\">\n",
       "      <th></th>\n",
       "      <th>instant</th>\n",
       "      <th>dteday</th>\n",
       "      <th>season</th>\n",
       "      <th>yr</th>\n",
       "      <th>mnth</th>\n",
       "      <th>hr</th>\n",
       "      <th>holiday</th>\n",
       "      <th>weekday</th>\n",
       "      <th>workingday</th>\n",
       "      <th>weathersit</th>\n",
       "      <th>temp</th>\n",
       "      <th>atemp</th>\n",
       "      <th>hum</th>\n",
       "      <th>windspeed</th>\n",
       "      <th>casual</th>\n",
       "      <th>registered</th>\n",
       "      <th>cnt</th>\n",
       "    </tr>\n",
       "  </thead>\n",
       "  <tbody>\n",
       "    <tr>\n",
       "      <th>0</th>\n",
       "      <td>1</td>\n",
       "      <td>2011-01-01</td>\n",
       "      <td>1</td>\n",
       "      <td>0</td>\n",
       "      <td>1</td>\n",
       "      <td>0</td>\n",
       "      <td>0</td>\n",
       "      <td>6</td>\n",
       "      <td>0</td>\n",
       "      <td>1</td>\n",
       "      <td>0.24</td>\n",
       "      <td>0.2879</td>\n",
       "      <td>0.81</td>\n",
       "      <td>0.0</td>\n",
       "      <td>3</td>\n",
       "      <td>13</td>\n",
       "      <td>16</td>\n",
       "    </tr>\n",
       "    <tr>\n",
       "      <th>1</th>\n",
       "      <td>2</td>\n",
       "      <td>2011-01-01</td>\n",
       "      <td>1</td>\n",
       "      <td>0</td>\n",
       "      <td>1</td>\n",
       "      <td>1</td>\n",
       "      <td>0</td>\n",
       "      <td>6</td>\n",
       "      <td>0</td>\n",
       "      <td>1</td>\n",
       "      <td>0.22</td>\n",
       "      <td>0.2727</td>\n",
       "      <td>0.80</td>\n",
       "      <td>0.0</td>\n",
       "      <td>8</td>\n",
       "      <td>32</td>\n",
       "      <td>40</td>\n",
       "    </tr>\n",
       "  </tbody>\n",
       "</table>\n",
       "</div>"
      ],
      "text/plain": [
       "   instant      dteday  season  yr  mnth  hr  holiday  weekday  workingday  \\\n",
       "0        1  2011-01-01       1   0     1   0        0        6           0   \n",
       "1        2  2011-01-01       1   0     1   1        0        6           0   \n",
       "\n",
       "   weathersit  temp   atemp   hum  windspeed  casual  registered  cnt  \n",
       "0           1  0.24  0.2879  0.81        0.0       3          13   16  \n",
       "1           1  0.22  0.2727  0.80        0.0       8          32   40  "
      ]
     },
     "execution_count": 3,
     "metadata": {},
     "output_type": "execute_result"
    }
   ],
   "source": [
    "bikes.head(2)"
   ]
  },
  {
   "cell_type": "code",
   "execution_count": 4,
   "metadata": {},
   "outputs": [
    {
     "data": {
      "text/html": [
       "<div>\n",
       "<style scoped>\n",
       "    .dataframe tbody tr th:only-of-type {\n",
       "        vertical-align: middle;\n",
       "    }\n",
       "\n",
       "    .dataframe tbody tr th {\n",
       "        vertical-align: top;\n",
       "    }\n",
       "\n",
       "    .dataframe thead th {\n",
       "        text-align: right;\n",
       "    }\n",
       "</style>\n",
       "<table border=\"1\" class=\"dataframe\">\n",
       "  <thead>\n",
       "    <tr style=\"text-align: right;\">\n",
       "      <th></th>\n",
       "      <th>instant</th>\n",
       "      <th>dteday</th>\n",
       "      <th>season</th>\n",
       "      <th>yr</th>\n",
       "      <th>mnth</th>\n",
       "      <th>hr</th>\n",
       "      <th>holiday</th>\n",
       "      <th>weekday</th>\n",
       "      <th>workingday</th>\n",
       "      <th>weathersit</th>\n",
       "      <th>temp</th>\n",
       "      <th>atemp</th>\n",
       "      <th>hum</th>\n",
       "      <th>windspeed</th>\n",
       "      <th>casual</th>\n",
       "      <th>registered</th>\n",
       "      <th>cnt</th>\n",
       "    </tr>\n",
       "  </thead>\n",
       "  <tbody>\n",
       "    <tr>\n",
       "      <th>17377</th>\n",
       "      <td>17378</td>\n",
       "      <td>2012-12-31</td>\n",
       "      <td>1</td>\n",
       "      <td>1</td>\n",
       "      <td>12</td>\n",
       "      <td>22</td>\n",
       "      <td>0</td>\n",
       "      <td>1</td>\n",
       "      <td>1</td>\n",
       "      <td>1</td>\n",
       "      <td>0.26</td>\n",
       "      <td>0.2727</td>\n",
       "      <td>0.56</td>\n",
       "      <td>0.1343</td>\n",
       "      <td>13</td>\n",
       "      <td>48</td>\n",
       "      <td>61</td>\n",
       "    </tr>\n",
       "    <tr>\n",
       "      <th>17378</th>\n",
       "      <td>17379</td>\n",
       "      <td>2012-12-31</td>\n",
       "      <td>1</td>\n",
       "      <td>1</td>\n",
       "      <td>12</td>\n",
       "      <td>23</td>\n",
       "      <td>0</td>\n",
       "      <td>1</td>\n",
       "      <td>1</td>\n",
       "      <td>1</td>\n",
       "      <td>0.26</td>\n",
       "      <td>0.2727</td>\n",
       "      <td>0.65</td>\n",
       "      <td>0.1343</td>\n",
       "      <td>12</td>\n",
       "      <td>37</td>\n",
       "      <td>49</td>\n",
       "    </tr>\n",
       "  </tbody>\n",
       "</table>\n",
       "</div>"
      ],
      "text/plain": [
       "       instant      dteday  season  yr  mnth  hr  holiday  weekday  \\\n",
       "17377    17378  2012-12-31       1   1    12  22        0        1   \n",
       "17378    17379  2012-12-31       1   1    12  23        0        1   \n",
       "\n",
       "       workingday  weathersit  temp   atemp   hum  windspeed  casual  \\\n",
       "17377           1           1  0.26  0.2727  0.56     0.1343      13   \n",
       "17378           1           1  0.26  0.2727  0.65     0.1343      12   \n",
       "\n",
       "       registered  cnt  \n",
       "17377          48   61  \n",
       "17378          37   49  "
      ]
     },
     "execution_count": 4,
     "metadata": {},
     "output_type": "execute_result"
    }
   ],
   "source": [
    "bikes.tail(2)"
   ]
  },
  {
   "cell_type": "markdown",
   "metadata": {},
   "source": [
    "Lets find out number of rows and columns of data set."
   ]
  },
  {
   "cell_type": "code",
   "execution_count": 5,
   "metadata": {},
   "outputs": [
    {
     "data": {
      "text/plain": [
       "(17379, 17)"
      ]
     },
     "execution_count": 5,
     "metadata": {},
     "output_type": "execute_result"
    }
   ],
   "source": [
    "bikes.shape"
   ]
  },
  {
   "cell_type": "markdown",
   "metadata": {},
   "source": [
    "# Step 2 - Formatting, cleaning and filtering Data Frames"
   ]
  },
  {
   "cell_type": "markdown",
   "metadata": {},
   "source": [
    "Lets check how many data values are present in each column."
   ]
  },
  {
   "cell_type": "code",
   "execution_count": 6,
   "metadata": {},
   "outputs": [
    {
     "name": "stdout",
     "output_type": "stream",
     "text": [
      "<class 'pandas.core.frame.DataFrame'>\n",
      "RangeIndex: 17379 entries, 0 to 17378\n",
      "Data columns (total 17 columns):\n",
      " #   Column      Non-Null Count  Dtype  \n",
      "---  ------      --------------  -----  \n",
      " 0   instant     17379 non-null  int64  \n",
      " 1   dteday      17379 non-null  object \n",
      " 2   season      17379 non-null  int64  \n",
      " 3   yr          17379 non-null  int64  \n",
      " 4   mnth        17379 non-null  int64  \n",
      " 5   hr          17379 non-null  int64  \n",
      " 6   holiday     17379 non-null  int64  \n",
      " 7   weekday     17379 non-null  int64  \n",
      " 8   workingday  17379 non-null  int64  \n",
      " 9   weathersit  17379 non-null  int64  \n",
      " 10  temp        17379 non-null  float64\n",
      " 11  atemp       17379 non-null  float64\n",
      " 12  hum         17379 non-null  float64\n",
      " 13  windspeed   17379 non-null  float64\n",
      " 14  casual      17379 non-null  int64  \n",
      " 15  registered  17379 non-null  int64  \n",
      " 16  cnt         17379 non-null  int64  \n",
      "dtypes: float64(4), int64(12), object(1)\n",
      "memory usage: 2.3+ MB\n"
     ]
    }
   ],
   "source": [
    "bikes.info()"
   ]
  },
  {
   "cell_type": "markdown",
   "metadata": {},
   "source": [
    "As all the features contains same number of data values, there are no missing values in dataset."
   ]
  },
  {
   "cell_type": "markdown",
   "metadata": {},
   "source": [
    "<b> Properties of data <b>"
   ]
  },
  {
   "cell_type": "markdown",
   "metadata": {},
   "source": [
    "Lets check some properties of dataset :"
   ]
  },
  {
   "cell_type": "code",
   "execution_count": 7,
   "metadata": {},
   "outputs": [
    {
     "data": {
      "text/plain": [
       "Index(['instant', 'dteday', 'season', 'yr', 'mnth', 'hr', 'holiday', 'weekday',\n",
       "       'workingday', 'weathersit', 'temp', 'atemp', 'hum', 'windspeed',\n",
       "       'casual', 'registered', 'cnt'],\n",
       "      dtype='object')"
      ]
     },
     "execution_count": 7,
     "metadata": {},
     "output_type": "execute_result"
    }
   ],
   "source": [
    "bikes.columns"
   ]
  },
  {
   "cell_type": "markdown",
   "metadata": {},
   "source": [
    "18 features are present in dataset, most of which looks integers in nature."
   ]
  },
  {
   "cell_type": "code",
   "execution_count": 8,
   "metadata": {},
   "outputs": [
    {
     "data": {
      "text/plain": [
       "instant         int64\n",
       "dteday         object\n",
       "season          int64\n",
       "yr              int64\n",
       "mnth            int64\n",
       "hr              int64\n",
       "holiday         int64\n",
       "weekday         int64\n",
       "workingday      int64\n",
       "weathersit      int64\n",
       "temp          float64\n",
       "atemp         float64\n",
       "hum           float64\n",
       "windspeed     float64\n",
       "casual          int64\n",
       "registered      int64\n",
       "cnt             int64\n",
       "dtype: object"
      ]
     },
     "execution_count": 8,
     "metadata": {},
     "output_type": "execute_result"
    }
   ],
   "source": [
    "bikes.dtypes"
   ]
  },
  {
   "cell_type": "markdown",
   "metadata": {},
   "source": [
    "dteday is datetime field so might need some transformation afterwards."
   ]
  },
  {
   "cell_type": "markdown",
   "metadata": {},
   "source": [
    "<b> Unique feature values <b>"
   ]
  },
  {
   "cell_type": "markdown",
   "metadata": {},
   "source": [
    "Lets explore the unique values present in each feature. These unique values can give us some hints while doing grouping of the data."
   ]
  },
  {
   "cell_type": "code",
   "execution_count": 9,
   "metadata": {},
   "outputs": [
    {
     "data": {
      "text/plain": [
       "array(['2011-01-01', '2011-01-02', '2011-01-03', '2011-01-04',\n",
       "       '2011-01-05', '2011-01-06', '2011-01-07', '2011-01-08',\n",
       "       '2011-01-09', '2011-01-10', '2011-01-11', '2011-01-12',\n",
       "       '2011-01-13', '2011-01-14', '2011-01-15', '2011-01-16',\n",
       "       '2011-01-17', '2011-01-18', '2011-01-19', '2011-01-20',\n",
       "       '2011-01-21', '2011-01-22', '2011-01-23', '2011-01-24',\n",
       "       '2011-01-25', '2011-01-26', '2011-01-27', '2011-01-28',\n",
       "       '2011-01-29', '2011-01-30', '2011-01-31', '2011-02-01',\n",
       "       '2011-02-02', '2011-02-03', '2011-02-04', '2011-02-05',\n",
       "       '2011-02-06', '2011-02-07', '2011-02-08', '2011-02-09',\n",
       "       '2011-02-10', '2011-02-11', '2011-02-12', '2011-02-13',\n",
       "       '2011-02-14', '2011-02-15', '2011-02-16', '2011-02-17',\n",
       "       '2011-02-18', '2011-02-19', '2011-02-20', '2011-02-21',\n",
       "       '2011-02-22', '2011-02-23', '2011-02-24', '2011-02-25',\n",
       "       '2011-02-26', '2011-02-27', '2011-02-28', '2011-03-01',\n",
       "       '2011-03-02', '2011-03-03', '2011-03-04', '2011-03-05',\n",
       "       '2011-03-06', '2011-03-07', '2011-03-08', '2011-03-09',\n",
       "       '2011-03-10', '2011-03-11', '2011-03-12', '2011-03-13',\n",
       "       '2011-03-14', '2011-03-15', '2011-03-16', '2011-03-17',\n",
       "       '2011-03-18', '2011-03-19', '2011-03-20', '2011-03-21',\n",
       "       '2011-03-22', '2011-03-23', '2011-03-24', '2011-03-25',\n",
       "       '2011-03-26', '2011-03-27', '2011-03-28', '2011-03-29',\n",
       "       '2011-03-30', '2011-03-31', '2011-04-01', '2011-04-02',\n",
       "       '2011-04-03', '2011-04-04', '2011-04-05', '2011-04-06',\n",
       "       '2011-04-07', '2011-04-08', '2011-04-09', '2011-04-10',\n",
       "       '2011-04-11', '2011-04-12', '2011-04-13', '2011-04-14',\n",
       "       '2011-04-15', '2011-04-16', '2011-04-17', '2011-04-18',\n",
       "       '2011-04-19', '2011-04-20', '2011-04-21', '2011-04-22',\n",
       "       '2011-04-23', '2011-04-24', '2011-04-25', '2011-04-26',\n",
       "       '2011-04-27', '2011-04-28', '2011-04-29', '2011-04-30',\n",
       "       '2011-05-01', '2011-05-02', '2011-05-03', '2011-05-04',\n",
       "       '2011-05-05', '2011-05-06', '2011-05-07', '2011-05-08',\n",
       "       '2011-05-09', '2011-05-10', '2011-05-11', '2011-05-12',\n",
       "       '2011-05-13', '2011-05-14', '2011-05-15', '2011-05-16',\n",
       "       '2011-05-17', '2011-05-18', '2011-05-19', '2011-05-20',\n",
       "       '2011-05-21', '2011-05-22', '2011-05-23', '2011-05-24',\n",
       "       '2011-05-25', '2011-05-26', '2011-05-27', '2011-05-28',\n",
       "       '2011-05-29', '2011-05-30', '2011-05-31', '2011-06-01',\n",
       "       '2011-06-02', '2011-06-03', '2011-06-04', '2011-06-05',\n",
       "       '2011-06-06', '2011-06-07', '2011-06-08', '2011-06-09',\n",
       "       '2011-06-10', '2011-06-11', '2011-06-12', '2011-06-13',\n",
       "       '2011-06-14', '2011-06-15', '2011-06-16', '2011-06-17',\n",
       "       '2011-06-18', '2011-06-19', '2011-06-20', '2011-06-21',\n",
       "       '2011-06-22', '2011-06-23', '2011-06-24', '2011-06-25',\n",
       "       '2011-06-26', '2011-06-27', '2011-06-28', '2011-06-29',\n",
       "       '2011-06-30', '2011-07-01', '2011-07-02', '2011-07-03',\n",
       "       '2011-07-04', '2011-07-05', '2011-07-06', '2011-07-07',\n",
       "       '2011-07-08', '2011-07-09', '2011-07-10', '2011-07-11',\n",
       "       '2011-07-12', '2011-07-13', '2011-07-14', '2011-07-15',\n",
       "       '2011-07-16', '2011-07-17', '2011-07-18', '2011-07-19',\n",
       "       '2011-07-20', '2011-07-21', '2011-07-22', '2011-07-23',\n",
       "       '2011-07-24', '2011-07-25', '2011-07-26', '2011-07-27',\n",
       "       '2011-07-28', '2011-07-29', '2011-07-30', '2011-07-31',\n",
       "       '2011-08-01', '2011-08-02', '2011-08-03', '2011-08-04',\n",
       "       '2011-08-05', '2011-08-06', '2011-08-07', '2011-08-08',\n",
       "       '2011-08-09', '2011-08-10', '2011-08-11', '2011-08-12',\n",
       "       '2011-08-13', '2011-08-14', '2011-08-15', '2011-08-16',\n",
       "       '2011-08-17', '2011-08-18', '2011-08-19', '2011-08-20',\n",
       "       '2011-08-21', '2011-08-22', '2011-08-23', '2011-08-24',\n",
       "       '2011-08-25', '2011-08-26', '2011-08-27', '2011-08-28',\n",
       "       '2011-08-29', '2011-08-30', '2011-08-31', '2011-09-01',\n",
       "       '2011-09-02', '2011-09-03', '2011-09-04', '2011-09-05',\n",
       "       '2011-09-06', '2011-09-07', '2011-09-08', '2011-09-09',\n",
       "       '2011-09-10', '2011-09-11', '2011-09-12', '2011-09-13',\n",
       "       '2011-09-14', '2011-09-15', '2011-09-16', '2011-09-17',\n",
       "       '2011-09-18', '2011-09-19', '2011-09-20', '2011-09-21',\n",
       "       '2011-09-22', '2011-09-23', '2011-09-24', '2011-09-25',\n",
       "       '2011-09-26', '2011-09-27', '2011-09-28', '2011-09-29',\n",
       "       '2011-09-30', '2011-10-01', '2011-10-02', '2011-10-03',\n",
       "       '2011-10-04', '2011-10-05', '2011-10-06', '2011-10-07',\n",
       "       '2011-10-08', '2011-10-09', '2011-10-10', '2011-10-11',\n",
       "       '2011-10-12', '2011-10-13', '2011-10-14', '2011-10-15',\n",
       "       '2011-10-16', '2011-10-17', '2011-10-18', '2011-10-19',\n",
       "       '2011-10-20', '2011-10-21', '2011-10-22', '2011-10-23',\n",
       "       '2011-10-24', '2011-10-25', '2011-10-26', '2011-10-27',\n",
       "       '2011-10-28', '2011-10-29', '2011-10-30', '2011-10-31',\n",
       "       '2011-11-01', '2011-11-02', '2011-11-03', '2011-11-04',\n",
       "       '2011-11-05', '2011-11-06', '2011-11-07', '2011-11-08',\n",
       "       '2011-11-09', '2011-11-10', '2011-11-11', '2011-11-12',\n",
       "       '2011-11-13', '2011-11-14', '2011-11-15', '2011-11-16',\n",
       "       '2011-11-17', '2011-11-18', '2011-11-19', '2011-11-20',\n",
       "       '2011-11-21', '2011-11-22', '2011-11-23', '2011-11-24',\n",
       "       '2011-11-25', '2011-11-26', '2011-11-27', '2011-11-28',\n",
       "       '2011-11-29', '2011-11-30', '2011-12-01', '2011-12-02',\n",
       "       '2011-12-03', '2011-12-04', '2011-12-05', '2011-12-06',\n",
       "       '2011-12-07', '2011-12-08', '2011-12-09', '2011-12-10',\n",
       "       '2011-12-11', '2011-12-12', '2011-12-13', '2011-12-14',\n",
       "       '2011-12-15', '2011-12-16', '2011-12-17', '2011-12-18',\n",
       "       '2011-12-19', '2011-12-20', '2011-12-21', '2011-12-22',\n",
       "       '2011-12-23', '2011-12-24', '2011-12-25', '2011-12-26',\n",
       "       '2011-12-27', '2011-12-28', '2011-12-29', '2011-12-30',\n",
       "       '2011-12-31', '2012-01-01', '2012-01-02', '2012-01-03',\n",
       "       '2012-01-04', '2012-01-05', '2012-01-06', '2012-01-07',\n",
       "       '2012-01-08', '2012-01-09', '2012-01-10', '2012-01-11',\n",
       "       '2012-01-12', '2012-01-13', '2012-01-14', '2012-01-15',\n",
       "       '2012-01-16', '2012-01-17', '2012-01-18', '2012-01-19',\n",
       "       '2012-01-20', '2012-01-21', '2012-01-22', '2012-01-23',\n",
       "       '2012-01-24', '2012-01-25', '2012-01-26', '2012-01-27',\n",
       "       '2012-01-28', '2012-01-29', '2012-01-30', '2012-01-31',\n",
       "       '2012-02-01', '2012-02-02', '2012-02-03', '2012-02-04',\n",
       "       '2012-02-05', '2012-02-06', '2012-02-07', '2012-02-08',\n",
       "       '2012-02-09', '2012-02-10', '2012-02-11', '2012-02-12',\n",
       "       '2012-02-13', '2012-02-14', '2012-02-15', '2012-02-16',\n",
       "       '2012-02-17', '2012-02-18', '2012-02-19', '2012-02-20',\n",
       "       '2012-02-21', '2012-02-22', '2012-02-23', '2012-02-24',\n",
       "       '2012-02-25', '2012-02-26', '2012-02-27', '2012-02-28',\n",
       "       '2012-02-29', '2012-03-01', '2012-03-02', '2012-03-03',\n",
       "       '2012-03-04', '2012-03-05', '2012-03-06', '2012-03-07',\n",
       "       '2012-03-08', '2012-03-09', '2012-03-10', '2012-03-11',\n",
       "       '2012-03-12', '2012-03-13', '2012-03-14', '2012-03-15',\n",
       "       '2012-03-16', '2012-03-17', '2012-03-18', '2012-03-19',\n",
       "       '2012-03-20', '2012-03-21', '2012-03-22', '2012-03-23',\n",
       "       '2012-03-24', '2012-03-25', '2012-03-26', '2012-03-27',\n",
       "       '2012-03-28', '2012-03-29', '2012-03-30', '2012-03-31',\n",
       "       '2012-04-01', '2012-04-02', '2012-04-03', '2012-04-04',\n",
       "       '2012-04-05', '2012-04-06', '2012-04-07', '2012-04-08',\n",
       "       '2012-04-09', '2012-04-10', '2012-04-11', '2012-04-12',\n",
       "       '2012-04-13', '2012-04-14', '2012-04-15', '2012-04-16',\n",
       "       '2012-04-17', '2012-04-18', '2012-04-19', '2012-04-20',\n",
       "       '2012-04-21', '2012-04-22', '2012-04-23', '2012-04-24',\n",
       "       '2012-04-25', '2012-04-26', '2012-04-27', '2012-04-28',\n",
       "       '2012-04-29', '2012-04-30', '2012-05-01', '2012-05-02',\n",
       "       '2012-05-03', '2012-05-04', '2012-05-05', '2012-05-06',\n",
       "       '2012-05-07', '2012-05-08', '2012-05-09', '2012-05-10',\n",
       "       '2012-05-11', '2012-05-12', '2012-05-13', '2012-05-14',\n",
       "       '2012-05-15', '2012-05-16', '2012-05-17', '2012-05-18',\n",
       "       '2012-05-19', '2012-05-20', '2012-05-21', '2012-05-22',\n",
       "       '2012-05-23', '2012-05-24', '2012-05-25', '2012-05-26',\n",
       "       '2012-05-27', '2012-05-28', '2012-05-29', '2012-05-30',\n",
       "       '2012-05-31', '2012-06-01', '2012-06-02', '2012-06-03',\n",
       "       '2012-06-04', '2012-06-05', '2012-06-06', '2012-06-07',\n",
       "       '2012-06-08', '2012-06-09', '2012-06-10', '2012-06-11',\n",
       "       '2012-06-12', '2012-06-13', '2012-06-14', '2012-06-15',\n",
       "       '2012-06-16', '2012-06-17', '2012-06-18', '2012-06-19',\n",
       "       '2012-06-20', '2012-06-21', '2012-06-22', '2012-06-23',\n",
       "       '2012-06-24', '2012-06-25', '2012-06-26', '2012-06-27',\n",
       "       '2012-06-28', '2012-06-29', '2012-06-30', '2012-07-01',\n",
       "       '2012-07-02', '2012-07-03', '2012-07-04', '2012-07-05',\n",
       "       '2012-07-06', '2012-07-07', '2012-07-08', '2012-07-09',\n",
       "       '2012-07-10', '2012-07-11', '2012-07-12', '2012-07-13',\n",
       "       '2012-07-14', '2012-07-15', '2012-07-16', '2012-07-17',\n",
       "       '2012-07-18', '2012-07-19', '2012-07-20', '2012-07-21',\n",
       "       '2012-07-22', '2012-07-23', '2012-07-24', '2012-07-25',\n",
       "       '2012-07-26', '2012-07-27', '2012-07-28', '2012-07-29',\n",
       "       '2012-07-30', '2012-07-31', '2012-08-01', '2012-08-02',\n",
       "       '2012-08-03', '2012-08-04', '2012-08-05', '2012-08-06',\n",
       "       '2012-08-07', '2012-08-08', '2012-08-09', '2012-08-10',\n",
       "       '2012-08-11', '2012-08-12', '2012-08-13', '2012-08-14',\n",
       "       '2012-08-15', '2012-08-16', '2012-08-17', '2012-08-18',\n",
       "       '2012-08-19', '2012-08-20', '2012-08-21', '2012-08-22',\n",
       "       '2012-08-23', '2012-08-24', '2012-08-25', '2012-08-26',\n",
       "       '2012-08-27', '2012-08-28', '2012-08-29', '2012-08-30',\n",
       "       '2012-08-31', '2012-09-01', '2012-09-02', '2012-09-03',\n",
       "       '2012-09-04', '2012-09-05', '2012-09-06', '2012-09-07',\n",
       "       '2012-09-08', '2012-09-09', '2012-09-10', '2012-09-11',\n",
       "       '2012-09-12', '2012-09-13', '2012-09-14', '2012-09-15',\n",
       "       '2012-09-16', '2012-09-17', '2012-09-18', '2012-09-19',\n",
       "       '2012-09-20', '2012-09-21', '2012-09-22', '2012-09-23',\n",
       "       '2012-09-24', '2012-09-25', '2012-09-26', '2012-09-27',\n",
       "       '2012-09-28', '2012-09-29', '2012-09-30', '2012-10-01',\n",
       "       '2012-10-02', '2012-10-03', '2012-10-04', '2012-10-05',\n",
       "       '2012-10-06', '2012-10-07', '2012-10-08', '2012-10-09',\n",
       "       '2012-10-10', '2012-10-11', '2012-10-12', '2012-10-13',\n",
       "       '2012-10-14', '2012-10-15', '2012-10-16', '2012-10-17',\n",
       "       '2012-10-18', '2012-10-19', '2012-10-20', '2012-10-21',\n",
       "       '2012-10-22', '2012-10-23', '2012-10-24', '2012-10-25',\n",
       "       '2012-10-26', '2012-10-27', '2012-10-28', '2012-10-29',\n",
       "       '2012-10-30', '2012-10-31', '2012-11-01', '2012-11-02',\n",
       "       '2012-11-03', '2012-11-04', '2012-11-05', '2012-11-06',\n",
       "       '2012-11-07', '2012-11-08', '2012-11-09', '2012-11-10',\n",
       "       '2012-11-11', '2012-11-12', '2012-11-13', '2012-11-14',\n",
       "       '2012-11-15', '2012-11-16', '2012-11-17', '2012-11-18',\n",
       "       '2012-11-19', '2012-11-20', '2012-11-21', '2012-11-22',\n",
       "       '2012-11-23', '2012-11-24', '2012-11-25', '2012-11-26',\n",
       "       '2012-11-27', '2012-11-28', '2012-11-29', '2012-11-30',\n",
       "       '2012-12-01', '2012-12-02', '2012-12-03', '2012-12-04',\n",
       "       '2012-12-05', '2012-12-06', '2012-12-07', '2012-12-08',\n",
       "       '2012-12-09', '2012-12-10', '2012-12-11', '2012-12-12',\n",
       "       '2012-12-13', '2012-12-14', '2012-12-15', '2012-12-16',\n",
       "       '2012-12-17', '2012-12-18', '2012-12-19', '2012-12-20',\n",
       "       '2012-12-21', '2012-12-22', '2012-12-23', '2012-12-24',\n",
       "       '2012-12-25', '2012-12-26', '2012-12-27', '2012-12-28',\n",
       "       '2012-12-29', '2012-12-30', '2012-12-31'], dtype=object)"
      ]
     },
     "execution_count": 9,
     "metadata": {},
     "output_type": "execute_result"
    }
   ],
   "source": [
    "bikes.dteday.unique() # two years dates stored from 1 Jan 2011 to 31 Dec 2012"
   ]
  },
  {
   "cell_type": "code",
   "execution_count": 10,
   "metadata": {},
   "outputs": [
    {
     "data": {
      "text/plain": [
       "array([1, 2, 3, 4], dtype=int64)"
      ]
     },
     "execution_count": 10,
     "metadata": {},
     "output_type": "execute_result"
    }
   ],
   "source": [
    "bikes.season.unique()  # four seasons"
   ]
  },
  {
   "cell_type": "markdown",
   "metadata": {},
   "source": [
    "Same thing can be done using [] operator"
   ]
  },
  {
   "cell_type": "code",
   "execution_count": 11,
   "metadata": {},
   "outputs": [
    {
     "data": {
      "text/plain": [
       "array([1, 2, 3, 4], dtype=int64)"
      ]
     },
     "execution_count": 11,
     "metadata": {},
     "output_type": "execute_result"
    }
   ],
   "source": [
    "bikes[\"season\"].unique()  # four seasons"
   ]
  },
  {
   "cell_type": "code",
   "execution_count": 12,
   "metadata": {},
   "outputs": [
    {
     "data": {
      "text/plain": [
       "array([0, 1], dtype=int64)"
      ]
     },
     "execution_count": 12,
     "metadata": {},
     "output_type": "execute_result"
    }
   ],
   "source": [
    "bikes.yr.unique() # two values - 0 for year 2011 and 1 for year 2012"
   ]
  },
  {
   "cell_type": "code",
   "execution_count": 13,
   "metadata": {},
   "outputs": [
    {
     "data": {
      "text/plain": [
       "array([ 1,  2,  3,  4,  5,  6,  7,  8,  9, 10, 11, 12], dtype=int64)"
      ]
     },
     "execution_count": 13,
     "metadata": {},
     "output_type": "execute_result"
    }
   ],
   "source": [
    "bikes.mnth.unique() # 12 months data stored"
   ]
  },
  {
   "cell_type": "code",
   "execution_count": 14,
   "metadata": {},
   "outputs": [
    {
     "data": {
      "text/plain": [
       "array([ 0,  1,  2,  3,  4,  5,  6,  7,  8,  9, 10, 11, 12, 13, 14, 15, 16,\n",
       "       17, 18, 19, 20, 21, 22, 23], dtype=int64)"
      ]
     },
     "execution_count": 14,
     "metadata": {},
     "output_type": "execute_result"
    }
   ],
   "source": [
    "bikes.hr.unique()  # for each day of month, 24 hours data stored"
   ]
  },
  {
   "cell_type": "code",
   "execution_count": 15,
   "metadata": {},
   "outputs": [
    {
     "data": {
      "text/plain": [
       "array([0, 1], dtype=int64)"
      ]
     },
     "execution_count": 15,
     "metadata": {},
     "output_type": "execute_result"
    }
   ],
   "source": [
    "bikes.holiday.unique() #0- no holidy , 1 holiday"
   ]
  },
  {
   "cell_type": "code",
   "execution_count": 16,
   "metadata": {},
   "outputs": [
    {
     "data": {
      "text/plain": [
       "array([6, 0, 1, 2, 3, 4, 5], dtype=int64)"
      ]
     },
     "execution_count": 16,
     "metadata": {},
     "output_type": "execute_result"
    }
   ],
   "source": [
    "bikes.weekday.unique() # each weekday given a number "
   ]
  },
  {
   "cell_type": "code",
   "execution_count": 17,
   "metadata": {},
   "outputs": [
    {
     "data": {
      "text/plain": [
       "array([0, 1], dtype=int64)"
      ]
     },
     "execution_count": 17,
     "metadata": {},
     "output_type": "execute_result"
    }
   ],
   "source": [
    "bikes.workingday.unique()  # workingday 1 otherwise 0"
   ]
  },
  {
   "cell_type": "code",
   "execution_count": 18,
   "metadata": {},
   "outputs": [
    {
     "data": {
      "text/plain": [
       "array([1, 2, 3, 4], dtype=int64)"
      ]
     },
     "execution_count": 18,
     "metadata": {},
     "output_type": "execute_result"
    }
   ],
   "source": [
    "bikes.weathersit.unique() #weathersit  has four values - 1 , 2, 3, 4"
   ]
  },
  {
   "cell_type": "markdown",
   "metadata": {},
   "source": [
    "temp, atemp, hum, windspeed are real numbers so will not interested in unique values for it."
   ]
  },
  {
   "cell_type": "markdown",
   "metadata": {},
   "source": [
    "casual, registered and cnt are aggregated user counts for each day, so will not be interested in unique values for it."
   ]
  },
  {
   "cell_type": "markdown",
   "metadata": {},
   "source": [
    "<b> Missing values identification <b>"
   ]
  },
  {
   "cell_type": "markdown",
   "metadata": {},
   "source": [
    "Missing values, null values, NaN needs to be identified. "
   ]
  },
  {
   "cell_type": "code",
   "execution_count": 19,
   "metadata": {},
   "outputs": [
    {
     "data": {
      "text/plain": [
       "instant       0\n",
       "dteday        0\n",
       "season        0\n",
       "yr            0\n",
       "mnth          0\n",
       "hr            0\n",
       "holiday       0\n",
       "weekday       0\n",
       "workingday    0\n",
       "weathersit    0\n",
       "temp          0\n",
       "atemp         0\n",
       "hum           0\n",
       "windspeed     0\n",
       "casual        0\n",
       "registered    0\n",
       "cnt           0\n",
       "dtype: int64"
      ]
     },
     "execution_count": 19,
     "metadata": {},
     "output_type": "execute_result"
    }
   ],
   "source": [
    "bikes.isnull().sum()"
   ]
  },
  {
   "cell_type": "code",
   "execution_count": 20,
   "metadata": {},
   "outputs": [
    {
     "data": {
      "text/plain": [
       "instant       0\n",
       "dteday        0\n",
       "season        0\n",
       "yr            0\n",
       "mnth          0\n",
       "hr            0\n",
       "holiday       0\n",
       "weekday       0\n",
       "workingday    0\n",
       "weathersit    0\n",
       "temp          0\n",
       "atemp         0\n",
       "hum           0\n",
       "windspeed     0\n",
       "casual        0\n",
       "registered    0\n",
       "cnt           0\n",
       "dtype: int64"
      ]
     },
     "execution_count": 20,
     "metadata": {},
     "output_type": "execute_result"
    }
   ],
   "source": [
    "bikes.isna().sum()"
   ]
  },
  {
   "cell_type": "markdown",
   "metadata": {},
   "source": [
    "Individual column can also be chcked for the null values."
   ]
  },
  {
   "cell_type": "code",
   "execution_count": 21,
   "metadata": {},
   "outputs": [
    {
     "data": {
      "text/plain": [
       "0"
      ]
     },
     "execution_count": 21,
     "metadata": {},
     "output_type": "execute_result"
    }
   ],
   "source": [
    "bikes.dteday.isnull().sum()"
   ]
  },
  {
   "cell_type": "markdown",
   "metadata": {},
   "source": [
    "None of the feature contains missing values or NaN. "
   ]
  },
  {
   "cell_type": "markdown",
   "metadata": {},
   "source": [
    "If null values are present in the dataframe, following code needs to be executed in order to get rid of them."
   ]
  },
  {
   "cell_type": "code",
   "execution_count": 22,
   "metadata": {},
   "outputs": [
    {
     "data": {
      "text/plain": [
       "instant       17379\n",
       "dteday        17379\n",
       "season        17379\n",
       "yr            17379\n",
       "mnth          17379\n",
       "hr            17379\n",
       "holiday       17379\n",
       "weekday       17379\n",
       "workingday    17379\n",
       "weathersit    17379\n",
       "temp          17379\n",
       "atemp         17379\n",
       "hum           17379\n",
       "windspeed     17379\n",
       "casual        17379\n",
       "registered    17379\n",
       "cnt           17379\n",
       "dtype: int64"
      ]
     },
     "execution_count": 22,
     "metadata": {},
     "output_type": "execute_result"
    }
   ],
   "source": [
    "bikes = bikes.dropna()\n",
    "#or inplace replacment in data frame\n",
    "bikes.dropna(inplace=True)\n",
    "bikes.count()"
   ]
  },
  {
   "cell_type": "markdown",
   "metadata": {},
   "source": [
    "Null values can be removed from individual columns as well. "
   ]
  },
  {
   "cell_type": "code",
   "execution_count": 23,
   "metadata": {},
   "outputs": [
    {
     "data": {
      "text/plain": [
       "17379"
      ]
     },
     "execution_count": 23,
     "metadata": {},
     "output_type": "execute_result"
    }
   ],
   "source": [
    "bikes.yr.dropna(inplace=True)\n",
    "bikes.yr.count()"
   ]
  },
  {
   "cell_type": "markdown",
   "metadata": {},
   "source": [
    "Or missing values can be imputed with some other default values."
   ]
  },
  {
   "cell_type": "code",
   "execution_count": 24,
   "metadata": {},
   "outputs": [
    {
     "data": {
      "text/plain": [
       "array([ 1,  2,  3,  4,  5,  6,  7,  8,  9, 10, 11, 12], dtype=int64)"
      ]
     },
     "execution_count": 24,
     "metadata": {},
     "output_type": "execute_result"
    }
   ],
   "source": [
    "bikes.mnth.fillna(0)  #Replace nulls with 0\n",
    "bikes.mnth.unique()"
   ]
  },
  {
   "cell_type": "markdown",
   "metadata": {},
   "source": [
    "<b> Duplicate records identification<b>"
   ]
  },
  {
   "cell_type": "markdown",
   "metadata": {},
   "source": [
    "Duplicate records needs to be identified and removed."
   ]
  },
  {
   "cell_type": "code",
   "execution_count": 25,
   "metadata": {},
   "outputs": [
    {
     "data": {
      "text/plain": [
       "0"
      ]
     },
     "execution_count": 25,
     "metadata": {},
     "output_type": "execute_result"
    }
   ],
   "source": [
    "bikes.duplicated().sum()"
   ]
  },
  {
   "cell_type": "markdown",
   "metadata": {},
   "source": [
    "There are no duplicate records in the data frame.  Same duplicate check can be done on a column as well. "
   ]
  },
  {
   "cell_type": "code",
   "execution_count": 26,
   "metadata": {},
   "outputs": [
    {
     "data": {
      "text/plain": [
       "0"
      ]
     },
     "execution_count": 26,
     "metadata": {},
     "output_type": "execute_result"
    }
   ],
   "source": [
    "bikes.instant.duplicated().sum()"
   ]
  },
  {
   "cell_type": "markdown",
   "metadata": {},
   "source": [
    "If duplicate records are present, then following code can be used to remove them."
   ]
  },
  {
   "cell_type": "code",
   "execution_count": 27,
   "metadata": {},
   "outputs": [
    {
     "data": {
      "text/plain": [
       "instant       17379\n",
       "dteday        17379\n",
       "season        17379\n",
       "yr            17379\n",
       "mnth          17379\n",
       "hr            17379\n",
       "holiday       17379\n",
       "weekday       17379\n",
       "workingday    17379\n",
       "weathersit    17379\n",
       "temp          17379\n",
       "atemp         17379\n",
       "hum           17379\n",
       "windspeed     17379\n",
       "casual        17379\n",
       "registered    17379\n",
       "cnt           17379\n",
       "dtype: int64"
      ]
     },
     "execution_count": 27,
     "metadata": {},
     "output_type": "execute_result"
    }
   ],
   "source": [
    "bikes.drop_duplicates(subset=\"instant\", keep=\"first\", inplace=True)\n",
    "bikes.count()"
   ]
  },
  {
   "cell_type": "markdown",
   "metadata": {},
   "source": [
    "<b> Data transformation <b>"
   ]
  },
  {
   "cell_type": "markdown",
   "metadata": {},
   "source": [
    "The datetime column \"dte\" is captured as object but as it contains date time in it, a lot of interesting things can be dervied from it and added to the existing data frame for further analysis."
   ]
  },
  {
   "cell_type": "code",
   "execution_count": 28,
   "metadata": {},
   "outputs": [
    {
     "data": {
      "text/plain": [
       "0    2011-01-01\n",
       "1    2011-01-01\n",
       "2    2011-01-01\n",
       "3    2011-01-01\n",
       "4    2011-01-01\n",
       "Name: dteday, dtype: object"
      ]
     },
     "execution_count": 28,
     "metadata": {},
     "output_type": "execute_result"
    }
   ],
   "source": [
    "bikes.dteday.head()"
   ]
  },
  {
   "cell_type": "markdown",
   "metadata": {},
   "source": [
    "Lets convert \"dteday\" to datetime."
   ]
  },
  {
   "cell_type": "code",
   "execution_count": 29,
   "metadata": {},
   "outputs": [
    {
     "data": {
      "text/plain": [
       "pandas.core.series.Series"
      ]
     },
     "execution_count": 29,
     "metadata": {},
     "output_type": "execute_result"
    }
   ],
   "source": [
    "dte = pd.to_datetime(bikes.dteday)\n",
    "type(dte)"
   ]
  },
  {
   "cell_type": "markdown",
   "metadata": {},
   "source": [
    "<b> Feature Extraction<b>"
   ]
  },
  {
   "cell_type": "markdown",
   "metadata": {},
   "source": [
    "Now extract year, month and day from \"dte\" series."
   ]
  },
  {
   "cell_type": "code",
   "execution_count": 30,
   "metadata": {},
   "outputs": [
    {
     "name": "stdout",
     "output_type": "stream",
     "text": [
      "0    2011\n",
      "1    2011\n",
      "Name: dteday, dtype: int64\n",
      "17377    2012\n",
      "17378    2012\n",
      "Name: dteday, dtype: int64\n"
     ]
    }
   ],
   "source": [
    "year = dte.dt.year\n",
    "print(year.head(2))\n",
    "print(year.tail(2))"
   ]
  },
  {
   "cell_type": "markdown",
   "metadata": {},
   "source": [
    "Add year series into the data frame."
   ]
  },
  {
   "cell_type": "code",
   "execution_count": 31,
   "metadata": {},
   "outputs": [
    {
     "data": {
      "text/plain": [
       "17379"
      ]
     },
     "execution_count": 31,
     "metadata": {},
     "output_type": "execute_result"
    }
   ],
   "source": [
    "bikes[\"year\"] = year\n",
    "bikes.year.count()"
   ]
  },
  {
   "cell_type": "markdown",
   "metadata": {},
   "source": [
    "Same way month, day , weekday features can be extracted from it and added to the dataframe. But our data frame already contains that information so we will not bother about it. "
   ]
  },
  {
   "cell_type": "code",
   "execution_count": 32,
   "metadata": {},
   "outputs": [
    {
     "name": "stderr",
     "output_type": "stream",
     "text": [
      "C:\\Users\\ADMIN\\AppData\\Local\\Temp/ipykernel_13056/407755352.py:6: FutureWarning: Series.dt.weekofyear and Series.dt.week have been deprecated.  Please use Series.dt.isocalendar().week instead.\n",
      "  week_of_year = dte.dt.weekofyear\n"
     ]
    }
   ],
   "source": [
    "months = dte.dt.month\n",
    "days = dte.dt.day\n",
    "day_of_weeks = dte.dt.dayofweek\n",
    "day_of_year = dte.dt.dayofyear\n",
    "weekdays = dte.dt.weekday\n",
    "week_of_year = dte.dt.weekofyear"
   ]
  },
  {
   "cell_type": "markdown",
   "metadata": {},
   "source": [
    "<b>Feature Reduction <b>"
   ]
  },
  {
   "cell_type": "markdown",
   "metadata": {},
   "source": [
    "Some of the features like \"instant\" does not do any value addition for the analysis apart from identifying the unique record. But same thing can be induced from the row label, hence the \"instant\" feature can be removed."
   ]
  },
  {
   "cell_type": "code",
   "execution_count": 33,
   "metadata": {},
   "outputs": [
    {
     "data": {
      "text/plain": [
       "Index(['dteday', 'season', 'yr', 'mnth', 'hr', 'holiday', 'weekday',\n",
       "       'workingday', 'weathersit', 'temp', 'atemp', 'hum', 'windspeed',\n",
       "       'casual', 'registered', 'cnt', 'year'],\n",
       "      dtype='object')"
      ]
     },
     "execution_count": 33,
     "metadata": {},
     "output_type": "execute_result"
    }
   ],
   "source": [
    "bikes.drop([\"instant\"], axis=1, inplace=True)\n",
    "bikes.columns"
   ]
  },
  {
   "cell_type": "markdown",
   "metadata": {},
   "source": [
    "Similary, \"cnt\" attribute can be derived from \"casual\" and \"registered\" attributes. So \"cnt\" is redundant information, hence can be removed."
   ]
  },
  {
   "cell_type": "code",
   "execution_count": 34,
   "metadata": {},
   "outputs": [
    {
     "data": {
      "text/plain": [
       "Index(['dteday', 'season', 'yr', 'mnth', 'hr', 'holiday', 'weekday',\n",
       "       'workingday', 'weathersit', 'temp', 'atemp', 'hum', 'windspeed',\n",
       "       'casual', 'registered', 'year'],\n",
       "      dtype='object')"
      ]
     },
     "execution_count": 34,
     "metadata": {},
     "output_type": "execute_result"
    }
   ],
   "source": [
    "bikes.drop([\"cnt\"], axis=1, inplace=True)\n",
    "bikes.columns"
   ]
  },
  {
   "cell_type": "markdown",
   "metadata": {},
   "source": [
    "<b> Filtering<b>"
   ]
  },
  {
   "cell_type": "markdown",
   "metadata": {},
   "source": [
    "Lets divide the data frame into two different data frames each one containing different year."
   ]
  },
  {
   "cell_type": "code",
   "execution_count": 35,
   "metadata": {},
   "outputs": [
    {
     "data": {
      "text/html": [
       "<div>\n",
       "<style scoped>\n",
       "    .dataframe tbody tr th:only-of-type {\n",
       "        vertical-align: middle;\n",
       "    }\n",
       "\n",
       "    .dataframe tbody tr th {\n",
       "        vertical-align: top;\n",
       "    }\n",
       "\n",
       "    .dataframe thead th {\n",
       "        text-align: right;\n",
       "    }\n",
       "</style>\n",
       "<table border=\"1\" class=\"dataframe\">\n",
       "  <thead>\n",
       "    <tr style=\"text-align: right;\">\n",
       "      <th></th>\n",
       "      <th>dteday</th>\n",
       "      <th>season</th>\n",
       "      <th>yr</th>\n",
       "      <th>mnth</th>\n",
       "      <th>hr</th>\n",
       "      <th>holiday</th>\n",
       "      <th>weekday</th>\n",
       "      <th>workingday</th>\n",
       "      <th>weathersit</th>\n",
       "      <th>temp</th>\n",
       "      <th>atemp</th>\n",
       "      <th>hum</th>\n",
       "      <th>windspeed</th>\n",
       "      <th>casual</th>\n",
       "      <th>registered</th>\n",
       "      <th>year</th>\n",
       "    </tr>\n",
       "  </thead>\n",
       "  <tbody>\n",
       "    <tr>\n",
       "      <th>0</th>\n",
       "      <td>2011-01-01</td>\n",
       "      <td>1</td>\n",
       "      <td>0</td>\n",
       "      <td>1</td>\n",
       "      <td>0</td>\n",
       "      <td>0</td>\n",
       "      <td>6</td>\n",
       "      <td>0</td>\n",
       "      <td>1</td>\n",
       "      <td>0.24</td>\n",
       "      <td>0.2879</td>\n",
       "      <td>0.81</td>\n",
       "      <td>0.0</td>\n",
       "      <td>3</td>\n",
       "      <td>13</td>\n",
       "      <td>2011</td>\n",
       "    </tr>\n",
       "    <tr>\n",
       "      <th>1</th>\n",
       "      <td>2011-01-01</td>\n",
       "      <td>1</td>\n",
       "      <td>0</td>\n",
       "      <td>1</td>\n",
       "      <td>1</td>\n",
       "      <td>0</td>\n",
       "      <td>6</td>\n",
       "      <td>0</td>\n",
       "      <td>1</td>\n",
       "      <td>0.22</td>\n",
       "      <td>0.2727</td>\n",
       "      <td>0.80</td>\n",
       "      <td>0.0</td>\n",
       "      <td>8</td>\n",
       "      <td>32</td>\n",
       "      <td>2011</td>\n",
       "    </tr>\n",
       "  </tbody>\n",
       "</table>\n",
       "</div>"
      ],
      "text/plain": [
       "       dteday  season  yr  mnth  hr  holiday  weekday  workingday  weathersit  \\\n",
       "0  2011-01-01       1   0     1   0        0        6           0           1   \n",
       "1  2011-01-01       1   0     1   1        0        6           0           1   \n",
       "\n",
       "   temp   atemp   hum  windspeed  casual  registered  year  \n",
       "0  0.24  0.2879  0.81        0.0       3          13  2011  \n",
       "1  0.22  0.2727  0.80        0.0       8          32  2011  "
      ]
     },
     "execution_count": 35,
     "metadata": {},
     "output_type": "execute_result"
    }
   ],
   "source": [
    "bikes_2011 = bikes[bikes.year == 2011]\n",
    "bikes_2011.head(2)"
   ]
  },
  {
   "cell_type": "code",
   "execution_count": 36,
   "metadata": {},
   "outputs": [
    {
     "data": {
      "text/html": [
       "<div>\n",
       "<style scoped>\n",
       "    .dataframe tbody tr th:only-of-type {\n",
       "        vertical-align: middle;\n",
       "    }\n",
       "\n",
       "    .dataframe tbody tr th {\n",
       "        vertical-align: top;\n",
       "    }\n",
       "\n",
       "    .dataframe thead th {\n",
       "        text-align: right;\n",
       "    }\n",
       "</style>\n",
       "<table border=\"1\" class=\"dataframe\">\n",
       "  <thead>\n",
       "    <tr style=\"text-align: right;\">\n",
       "      <th></th>\n",
       "      <th>dteday</th>\n",
       "      <th>season</th>\n",
       "      <th>yr</th>\n",
       "      <th>mnth</th>\n",
       "      <th>hr</th>\n",
       "      <th>holiday</th>\n",
       "      <th>weekday</th>\n",
       "      <th>workingday</th>\n",
       "      <th>weathersit</th>\n",
       "      <th>temp</th>\n",
       "      <th>atemp</th>\n",
       "      <th>hum</th>\n",
       "      <th>windspeed</th>\n",
       "      <th>casual</th>\n",
       "      <th>registered</th>\n",
       "      <th>year</th>\n",
       "    </tr>\n",
       "  </thead>\n",
       "  <tbody>\n",
       "    <tr>\n",
       "      <th>8645</th>\n",
       "      <td>2012-01-01</td>\n",
       "      <td>1</td>\n",
       "      <td>1</td>\n",
       "      <td>1</td>\n",
       "      <td>0</td>\n",
       "      <td>0</td>\n",
       "      <td>0</td>\n",
       "      <td>0</td>\n",
       "      <td>1</td>\n",
       "      <td>0.36</td>\n",
       "      <td>0.3788</td>\n",
       "      <td>0.66</td>\n",
       "      <td>0.0000</td>\n",
       "      <td>5</td>\n",
       "      <td>43</td>\n",
       "      <td>2012</td>\n",
       "    </tr>\n",
       "    <tr>\n",
       "      <th>8646</th>\n",
       "      <td>2012-01-01</td>\n",
       "      <td>1</td>\n",
       "      <td>1</td>\n",
       "      <td>1</td>\n",
       "      <td>1</td>\n",
       "      <td>0</td>\n",
       "      <td>0</td>\n",
       "      <td>0</td>\n",
       "      <td>1</td>\n",
       "      <td>0.36</td>\n",
       "      <td>0.3485</td>\n",
       "      <td>0.66</td>\n",
       "      <td>0.1343</td>\n",
       "      <td>15</td>\n",
       "      <td>78</td>\n",
       "      <td>2012</td>\n",
       "    </tr>\n",
       "  </tbody>\n",
       "</table>\n",
       "</div>"
      ],
      "text/plain": [
       "          dteday  season  yr  mnth  hr  holiday  weekday  workingday  \\\n",
       "8645  2012-01-01       1   1     1   0        0        0           0   \n",
       "8646  2012-01-01       1   1     1   1        0        0           0   \n",
       "\n",
       "      weathersit  temp   atemp   hum  windspeed  casual  registered  year  \n",
       "8645           1  0.36  0.3788  0.66     0.0000       5          43  2012  \n",
       "8646           1  0.36  0.3485  0.66     0.1343      15          78  2012  "
      ]
     },
     "execution_count": 36,
     "metadata": {},
     "output_type": "execute_result"
    }
   ],
   "source": [
    "bikes_2012 = bikes[bikes.year == 2012]\n",
    "bikes_2012.head(2)"
   ]
  },
  {
   "cell_type": "markdown",
   "metadata": {},
   "source": [
    "Similary several smaller data frames can be derived out of complete data set and then anlysis can be done on those data frames."
   ]
  },
  {
   "cell_type": "code",
   "execution_count": null,
   "metadata": {},
   "outputs": [],
   "source": [
    "bikes_2011_summer = bikes[(bikes.year == 2011) & (bikes.season == 2)]\n",
    "bikes_2011_summer.head(2)"
   ]
  },
  {
   "cell_type": "code",
   "execution_count": null,
   "metadata": {},
   "outputs": [],
   "source": [
    "bikes_holiday = bikes[bikes.holiday == 1]\n",
    "bikes_holiday.head(2)"
   ]
  },
  {
   "cell_type": "markdown",
   "metadata": {},
   "source": [
    "<b> Quick stat about numeric features<b>"
   ]
  },
  {
   "cell_type": "markdown",
   "metadata": {},
   "source": [
    "Lets look at the quick statistics about this dataset. "
   ]
  },
  {
   "cell_type": "code",
   "execution_count": null,
   "metadata": {},
   "outputs": [],
   "source": [
    "bikes.describe()"
   ]
  },
  {
   "cell_type": "markdown",
   "metadata": {},
   "source": [
    "Lets look at users statistics : "
   ]
  },
  {
   "cell_type": "code",
   "execution_count": null,
   "metadata": {},
   "outputs": [],
   "source": [
    "bikes.casual.describe()  #casual users stat"
   ]
  },
  {
   "cell_type": "code",
   "execution_count": null,
   "metadata": {},
   "outputs": [],
   "source": [
    "bikes.registered.describe()  #registered users stat"
   ]
  },
  {
   "cell_type": "markdown",
   "metadata": {},
   "source": [
    "# Step3 - Group-by and Concat /Merge"
   ]
  },
  {
   "cell_type": "markdown",
   "metadata": {},
   "source": [
    "<b> Group by based on single feature<b>"
   ]
  },
  {
   "cell_type": "markdown",
   "metadata": {},
   "source": [
    "There are four seasons for which bike shairing data is collected. Lets figure out how many users are using this service as per different seasons."
   ]
  },
  {
   "cell_type": "code",
   "execution_count": 37,
   "metadata": {},
   "outputs": [
    {
     "data": {
      "text/plain": [
       "pandas.core.groupby.generic.DataFrameGroupBy"
      ]
     },
     "execution_count": 37,
     "metadata": {},
     "output_type": "execute_result"
    }
   ],
   "source": [
    "#First create the group by \n",
    "df_by_seasons = bikes.groupby(\"season\")\n",
    "type(df_by_seasons)"
   ]
  },
  {
   "cell_type": "code",
   "execution_count": null,
   "metadata": {},
   "outputs": [],
   "source": [
    "#sum(\"casual\") group by season\n",
    "df_by_seasons[\"casual\"].sum()"
   ]
  },
  {
   "cell_type": "code",
   "execution_count": null,
   "metadata": {},
   "outputs": [],
   "source": [
    "#sum(\"registered\") group by season\n",
    "df_by_seasons[\"registered\"].sum()"
   ]
  },
  {
   "cell_type": "code",
   "execution_count": null,
   "metadata": {},
   "outputs": [],
   "source": [
    "#sum(\"registered\") group by season , sort in ascending order\n",
    "df_by_seasons[\"registered\"].sum().sort_values()"
   ]
  },
  {
   "cell_type": "code",
   "execution_count": null,
   "metadata": {},
   "outputs": [],
   "source": [
    "#sum(\"registered\") group by season , sort in descending order\n",
    "df_by_seasons[\"registered\"].sum().sort_values(ascending=False)"
   ]
  },
  {
   "cell_type": "markdown",
   "metadata": {},
   "source": [
    "Combine the outcome of two group by into single data frame. "
   ]
  },
  {
   "cell_type": "code",
   "execution_count": null,
   "metadata": {},
   "outputs": [],
   "source": [
    "#Create the summarized data for casual users\n",
    "df_casual = df_by_seasons[\"casual\"].sum()\n",
    "df_casual"
   ]
  },
  {
   "cell_type": "code",
   "execution_count": null,
   "metadata": {},
   "outputs": [],
   "source": [
    "#Create the summarized data for registered users\n",
    "df_registered = df_by_seasons[\"registered\"].sum()\n",
    "df_registered"
   ]
  },
  {
   "cell_type": "code",
   "execution_count": null,
   "metadata": {},
   "outputs": [],
   "source": [
    "#Combine the two frames into single one using pandas concat feature\n",
    "frames = [df_casual, df_registered]\n",
    "df_seasons = pd.concat(frames, axis=1)\n",
    "df_seasons"
   ]
  },
  {
   "cell_type": "code",
   "execution_count": null,
   "metadata": {},
   "outputs": [],
   "source": [
    "#Add the rowwise total for each season\n",
    "df_seasons[\"total\"] = df_seasons[\"casual\"] + df[\"registered\"]\n",
    "df_seasons"
   ]
  },
  {
   "cell_type": "markdown",
   "metadata": {},
   "source": [
    "<b> Group by based on multiple features<b>"
   ]
  },
  {
   "cell_type": "markdown",
   "metadata": {},
   "source": [
    "Lets explore how more than one attributes can be used in group by clause. Average number of users for different years and months can be found as follows :"
   ]
  },
  {
   "cell_type": "code",
   "execution_count": null,
   "metadata": {},
   "outputs": [],
   "source": [
    "#Create the group by based on year and months\n",
    "df_by_year_months = bikes.groupby([\"year\", \"mnth\"])"
   ]
  },
  {
   "cell_type": "code",
   "execution_count": null,
   "metadata": {},
   "outputs": [],
   "source": [
    "#Compute the average number of casual users per month per year\n",
    "series_casual = df_by_year_months[\"casual\"].mean()\n",
    "series_casual "
   ]
  },
  {
   "cell_type": "code",
   "execution_count": null,
   "metadata": {},
   "outputs": [],
   "source": [
    "#Compute the average number of registered users per month per year\n",
    "series_registered = df_by_year_months[\"registered\"].mean()\n",
    "series_registered "
   ]
  },
  {
   "cell_type": "code",
   "execution_count": null,
   "metadata": {},
   "outputs": [],
   "source": [
    "#Concatenate the results of two data frames\n",
    "df_casual = pd.DataFrame(series_casual)\n",
    "#df_casual\n",
    "df_registered = pd.DataFrame(series_registered)\n",
    "#df_registered\n",
    "df_year_month = pd.merge(df_casual,df_registered, on=['year', 'mnth'])\n",
    "df_year_month"
   ]
  },
  {
   "cell_type": "code",
   "execution_count": null,
   "metadata": {},
   "outputs": [],
   "source": [
    "df_year_month[\"total\"] = df_year_month[\"casual\"] + df_year_month[\"registered\"]"
   ]
  },
  {
   "cell_type": "code",
   "execution_count": null,
   "metadata": {},
   "outputs": [],
   "source": [
    "df_year_month"
   ]
  },
  {
   "cell_type": "markdown",
   "metadata": {},
   "source": [
    "# Step 4 - Writing data frames to CSV file"
   ]
  },
  {
   "cell_type": "markdown",
   "metadata": {},
   "source": [
    "Lets utilise the pandas function to write back the data frame to CSV file. "
   ]
  },
  {
   "cell_type": "code",
   "execution_count": null,
   "metadata": {},
   "outputs": [],
   "source": [
    "df_seasons.head()"
   ]
  },
  {
   "cell_type": "code",
   "execution_count": null,
   "metadata": {},
   "outputs": [],
   "source": [
    "df_seasons.to_csv(\"file1.csv\")"
   ]
  },
  {
   "cell_type": "code",
   "execution_count": null,
   "metadata": {},
   "outputs": [],
   "source": [
    "df_year_month.head()"
   ]
  },
  {
   "cell_type": "code",
   "execution_count": null,
   "metadata": {},
   "outputs": [],
   "source": [
    "df_year_month.to_csv(\"file2.csv\")"
   ]
  }
 ],
 "metadata": {
  "kernelspec": {
   "display_name": "Python 3",
   "language": "python",
   "name": "python3"
  },
  "language_info": {
   "codemirror_mode": {
    "name": "ipython",
    "version": 3
   },
   "file_extension": ".py",
   "mimetype": "text/x-python",
   "name": "python",
   "nbconvert_exporter": "python",
   "pygments_lexer": "ipython3",
   "version": "3.9.7"
  }
 },
 "nbformat": 4,
 "nbformat_minor": 2
}
